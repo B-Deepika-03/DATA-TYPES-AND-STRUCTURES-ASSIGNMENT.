{
  "nbformat": 4,
  "nbformat_minor": 0,
  "metadata": {
    "colab": {
      "provenance": []
    },
    "kernelspec": {
      "name": "python3",
      "display_name": "Python 3"
    },
    "language_info": {
      "name": "python"
    }
  },
  "cells": [
    {
      "cell_type": "markdown",
      "source": [
        "**DATA TYPES AND STRUCTURES ASSIGNMENT **\n",
        "\n",
        "QUESTIONS :-\n",
        "\n",
        "1.  What are data structures, and why are they importanT?\n",
        "- Data structures are specialized formats for organizing, storing, and accessing collections of data.\n",
        "-  They provide efficient ways to manage information based on its characteristics and intended use.\n",
        "- Think of them as containers that hold your data and determine how you can interact with it.\n",
        "- Different containers are better suited for different types of items.\n",
        "- Choosing the right data structure significantly impacts the efficiency and performance of your program.\n",
        "- Well-chosen data structures can:\n",
        "Simplify data manipulation (adding, removing, modifying elements)\n",
        "Optimize searching and sorting operations\n",
        "Conserve memory usage.\n",
        "\n",
        "2.  Explain the difference between mutable and immutable data types with example?\n",
        "- Mutable Data Types\n",
        "Definition: Mutable data types are those whose values can be changed after they are created.\n",
        "\n",
        "Example: Lists, dictionaries, sets in Python.\n",
        "\n"
      ],
      "metadata": {
        "id": "K6h1G9of2oiO"
      }
    },
    {
      "cell_type": "code",
      "execution_count": 1,
      "metadata": {
        "colab": {
          "base_uri": "https://localhost:8080/"
        },
        "id": "5aGc61OZ2kbl",
        "outputId": "6618fd53-fd4e-4981-d2b1-d0add477e2bc"
      },
      "outputs": [
        {
          "output_type": "stream",
          "name": "stdout",
          "text": [
            "[10, 2, 3]\n"
          ]
        }
      ],
      "source": [
        "my_list = [1, 2, 3]\n",
        "my_list[0] = 10\n",
        "print(my_list)\n"
      ]
    },
    {
      "cell_type": "markdown",
      "source": [
        "Immutable Data Types\n",
        "Definition: Immutable data types are those whose values cannot be changed once created.\n",
        "\n",
        "Example: Strings, tuples, integers, floats in Python."
      ],
      "metadata": {
        "id": "7qgBPUr_2muW"
      }
    },
    {
      "cell_type": "code",
      "source": [
        "my_string = \"Hello\"\n",
        "print(my_string)\n"
      ],
      "metadata": {
        "colab": {
          "base_uri": "https://localhost:8080/"
        },
        "id": "ICiUOwRe4VoP",
        "outputId": "b99c9268-1864-4929-a533-2ef0e1314bf9"
      },
      "execution_count": 2,
      "outputs": [
        {
          "output_type": "stream",
          "name": "stdout",
          "text": [
            "Hello\n"
          ]
        }
      ]
    },
    {
      "cell_type": "markdown",
      "source": [
        "3. What are the main differences between lists and tuples in Python?\n",
        "\n",
        "- Mutability\tMutable — you can change elements (add, remove, modify)\n",
        "- Immutable — cannot change once created\n",
        "- Syntax\tSquare brackets [] - Mutability\n",
        "- Parentheses () - immutable\n",
        "\n",
        "4.  Describe how dictionaries store data?\n",
        "- A dictionary stores data as pairs of keys and values.\n",
        "- Each key is linked to a value.\n",
        "- Each key maps to a value.\n",
        "- Keys must be unique and immutable types (like strings, numbers, tuples).\n",
        "- Values can be any data type and can be duplicated.\n",
        "\n",
        "5. Why might you use a set instead of a list in Python?\n",
        "- Unique Elements Only\n",
        "- Sets automatically store only unique items—duplicates are removed.\n",
        "- Lists can have duplicates, so if you want to avoid duplicates, sets are better.\n",
        "- Faster Membership Testing.\n",
        "- Set Operations.\n",
        "- No Order Needed\n",
        "\n",
        "6.  What is a string in Python, and how is it different from a list?\n",
        "- A string is a sequence of characters enclosed in quotes ('...' or \"...\").\n",
        "- It represents text data.\n",
        "- Strings are immutable, meaning you cannot change the characters once the string is created.\n",
        "- Data type\t-string:- Sequence of characters\t-list :- Sequence of any data types.\n",
        "- Mutability - Immutable (string)\t- Mutable (list).\n",
        "- Elements -\tCharacters only\t(string) - Can hold mixed data types(list).\n",
        "- Syntax\tQuotes (\"...\" or '...')\t      Square brackets ([...]).\n",
        "-  Operations - \tString-specific methods (.upper(), .replace())\n",
        "- List methods (.append(), .remove())\n",
        "\n",
        "- Example\t\"Hello\"\t- string\n",
        "- list [1, \"Hello\", 3.5]\n",
        "\n",
        "7. How do tuples ensure data integrity in Python?\n",
        "- Tuples are immutable, meaning you cannot change, add, or remove items from a tuple after it is created. This immutability is what helps ensure data integrity.\n",
        "- Prevents Accidental Changes.\n",
        "- Safe for Critical Data\n",
        "\n",
        "8. What is a hash table, and how does it relate to dictionaries in Python?\n",
        "- A hash table is a data structure that stores data in key-value pairs and allows for fast access to values using keys.\n",
        "- Python's dictionary (dict) is built on top of a hash table.\n",
        "That means:\n",
        "When you do my_dict[\"name\"], Python:\n",
        "\n",
        "Hashes the string \"name\",\n",
        "\n",
        "Finds the location in memory using the hash,\n",
        "\n",
        "Returns the value stored there.\n",
        "\n",
        "9.  Can lists contain different data types in Python?\n",
        "- Yes , Python contain different data types, so a list can store a mix of integers, strings, floats, booleans, other lists, or even function.\n",
        "\n",
        "10. Explain why strings are immutable in Python?\n",
        "- Strings are immutable in Python, which means you cannot change a string after it’s created.\n",
        "- Data Safety-Prevents accidental changes to text data.\n",
        "- Important when the same string is used in many parts of a program.\n",
        "\n",
        "11. What advantages do dictionaries offer over lists for certain tasks?\n",
        "- Better real world data.\n",
        "- Key value pair organization.\n",
        "- Avoid index confusion.\n",
        "- Fast lookup by keys.\n",
        "\n",
        "12. Describe a scenario where using a tuple would be preferable over a list?\n",
        "- Example when you are building a project which track locations longitude and latitude ,\n",
        "# Using a tuple\n",
        "location = (17.3850, 78.4867)  # Hyderabad coordinates\n",
        "- Fixed Data:\n",
        "A GPS coordinate always has exactly two values (latitude and longitude).\n",
        "Tuples are immutable, so no one can accidentally change or add values.\n",
        "- The data is fixed and shouldn't change.\n",
        "- To ensure data integrity.\n",
        "- To use the data as a key in a dictionary.\n",
        "- To care about performance and memory.\n",
        "\n",
        "13. How do sets handle duplicate values in Python?\n",
        "- Sets automatically remove duplicate values.\n",
        "- When you add items to a set, only unique elements are kept — any duplicates are ignored.\n",
        "\n",
        "14.  How does the “in” keyword work differently for lists and dictionaries?\n",
        "- The in keyword is used to check if something exists in a collection — but it behaves differently for lists and dictionaries.\n",
        "\n",
        "15.  Can you modify the elements of a tuple? Explain why or why not?\n",
        "- No, you cannot modify the elements of a tuple in Python.\n",
        "- Because tuples are immutable, which means:Once a tuple is created, You cannot change, add, or remove any of its elements.\n",
        "\n",
        "16. What is a nested dictionary, and give an example of its use case?\n",
        "- A nested dictionary is a dictionary inside another dictionary.\n",
        "- It’s like storing structured data.\n",
        "\n",
        "\n"
      ],
      "metadata": {
        "id": "efMVp-2I4eoI"
      }
    },
    {
      "cell_type": "code",
      "source": [
        "students = {\n",
        "    \"Alice\": {\"age\": 20, \"grade\": \"A\"},\n",
        "    \"Bob\": {\"age\": 22, \"grade\": \"B\"},\n",
        "    \"Charlie\": {\"age\": 21, \"grade\": \"A+\"}\n",
        "}\n",
        "print(students[\"Alice\"][\"grade\"])"
      ],
      "metadata": {
        "colab": {
          "base_uri": "https://localhost:8080/"
        },
        "id": "npvoyoQO_7Pm",
        "outputId": "d143f6d3-841f-428c-86e0-ce4c291d82aa"
      },
      "execution_count": 4,
      "outputs": [
        {
          "output_type": "stream",
          "name": "stdout",
          "text": [
            "A\n"
          ]
        }
      ]
    },
    {
      "cell_type": "markdown",
      "source": [
        "17.  Describe the time complexity of accessing elements in a dictionary?\n",
        "- Accessing an element in a Python dictionary by its key is generally O(1) — which means constant time.\n",
        "\n",
        "18.  In what situations are lists preferred over dictionaries?\n",
        "- Ordered Data Matters\n",
        "- Simple Collections of Items\n",
        "- When Duplicate Elements Are Allowed\n",
        "- Index-Based Access\n",
        "- When Memory Efficiency is Important for Large Sequential Data\n",
        "\n",
        "19. Why are dictionaries considered unordered, and how does that affect data retrieval?\n",
        "- Dictionaries did not preserve the order in which items were added.\n",
        "So, when you looped over a dictionary or printed it, items could appear in any order.\n",
        "- Dictionaries use a hash table internally to store key-value pairs.\n",
        "Hashing focuses on fast access rather than maintaining order.\n",
        "- The order of insertion is preserved during retrieval and iteration.\n",
        "- This makes dictionaries behave more like ordered collections in many cases.\n",
        "\n",
        "20. Explain the difference between a list and a dictionary in terms of data retrieval?\n",
        "- Lists retrieve data by numeric position, so you need to know the index or search through the list.Data is accessed by index position.Duplicates\tAllowed.\n",
        "- Dictionaries retrieve data by key, which allows fast and direct access without searching.Data accessed by key (any immutable type).Duplicates - Keys must be unique; values can repeat.\n",
        "\n",
        "\n"
      ],
      "metadata": {
        "id": "Fi0RK7bgAGcS"
      }
    },
    {
      "cell_type": "markdown",
      "source": [
        "**PRACTICAL QUESTIONS :**"
      ],
      "metadata": {
        "id": "FvfEgyrYCwnX"
      }
    },
    {
      "cell_type": "code",
      "source": [
        "#1.  Write a code to create a string with your name and print it?\n",
        "name = \"Deepika Bhimavarapu\"\n",
        "print(name)\n"
      ],
      "metadata": {
        "colab": {
          "base_uri": "https://localhost:8080/"
        },
        "id": "nCx_-EYMC4aG",
        "outputId": "7b0daa37-aede-4f88-8533-6207889c8190"
      },
      "execution_count": 5,
      "outputs": [
        {
          "output_type": "stream",
          "name": "stdout",
          "text": [
            "Deepika Bhimavarapu\n"
          ]
        }
      ]
    },
    {
      "cell_type": "code",
      "source": [
        "#2. Write a code to find the length of the string \"Hello World\"?\n",
        "text = \"Hello World\"\n",
        "length = len(text)\n",
        "print(length)"
      ],
      "metadata": {
        "colab": {
          "base_uri": "https://localhost:8080/"
        },
        "id": "aiJExPaqDM4m",
        "outputId": "1e959b86-7d7b-45ba-9caf-afbb4b4cd0e8"
      },
      "execution_count": 6,
      "outputs": [
        {
          "output_type": "stream",
          "name": "stdout",
          "text": [
            "11\n"
          ]
        }
      ]
    },
    {
      "cell_type": "code",
      "source": [
        "#3. Write a code to slice the first 3 characters from the string \"Python Programming\"?\n",
        "text = \"Python Programming\"\n",
        "first_three = text[:3]\n",
        "print(first_three)"
      ],
      "metadata": {
        "colab": {
          "base_uri": "https://localhost:8080/"
        },
        "id": "6l4HXUxtDa60",
        "outputId": "ee65c907-18e1-49ab-f072-6acb2eae502c"
      },
      "execution_count": 7,
      "outputs": [
        {
          "output_type": "stream",
          "name": "stdout",
          "text": [
            "Pyt\n"
          ]
        }
      ]
    },
    {
      "cell_type": "code",
      "source": [
        "#4. Write a code to convert the string \"hello\" to uppercase?\n",
        "text = \"hello\"\n",
        "upper_text = text.upper()\n",
        "print(upper_text)"
      ],
      "metadata": {
        "colab": {
          "base_uri": "https://localhost:8080/"
        },
        "id": "zZ3ft8YLDmC8",
        "outputId": "d36ae568-ac3b-4cfd-f2cf-2faa464d8d02"
      },
      "execution_count": 8,
      "outputs": [
        {
          "output_type": "stream",
          "name": "stdout",
          "text": [
            "HELLO\n"
          ]
        }
      ]
    },
    {
      "cell_type": "code",
      "source": [
        "#5. Write a code to replace the word \"apple\" with \"orange\" in the string \"I like apple\"?\n",
        "text = \"I like apple\"\n",
        "new_text = text.replace(\"apple\", \"orange\")\n",
        "print(new_text)"
      ],
      "metadata": {
        "colab": {
          "base_uri": "https://localhost:8080/"
        },
        "id": "atEyMD1lDwg_",
        "outputId": "f7e5ded5-1d1d-4860-bba2-5dac3276e65a"
      },
      "execution_count": 9,
      "outputs": [
        {
          "output_type": "stream",
          "name": "stdout",
          "text": [
            "I like orange\n"
          ]
        }
      ]
    },
    {
      "cell_type": "code",
      "source": [
        "#6. Write a code to create a list with numbers 1 to 5 and print it?\n",
        "numbers = [1, 2, 3, 4, 5]\n",
        "print(numbers)"
      ],
      "metadata": {
        "colab": {
          "base_uri": "https://localhost:8080/"
        },
        "id": "BW1L4AO6D6kf",
        "outputId": "2509484e-cea2-4413-8179-16bb28d63bf0"
      },
      "execution_count": 10,
      "outputs": [
        {
          "output_type": "stream",
          "name": "stdout",
          "text": [
            "[1, 2, 3, 4, 5]\n"
          ]
        }
      ]
    },
    {
      "cell_type": "code",
      "source": [
        "#7.  Write a code to append the number 10 to the list [1, 2, 3, 4]\n",
        "numbers = [1, 2, 3, 4]\n",
        "numbers.append(10)\n",
        "print(numbers)\n"
      ],
      "metadata": {
        "colab": {
          "base_uri": "https://localhost:8080/"
        },
        "id": "VtnJMn7MEFLG",
        "outputId": "3fff4df7-2a37-40c8-ae36-9002f60de7fd"
      },
      "execution_count": 11,
      "outputs": [
        {
          "output_type": "stream",
          "name": "stdout",
          "text": [
            "[1, 2, 3, 4, 10]\n"
          ]
        }
      ]
    },
    {
      "cell_type": "code",
      "source": [
        "#8.  Write a code to remove the number 3 from the list [1, 2, 3, 4, 5]\n",
        "numbers = [1, 2, 3, 4, 5]\n",
        "numbers.remove(3)\n",
        "print(numbers)"
      ],
      "metadata": {
        "colab": {
          "base_uri": "https://localhost:8080/"
        },
        "id": "449zEeTbEQ37",
        "outputId": "cd3b623e-8b40-4078-c67e-51446f8340e9"
      },
      "execution_count": 12,
      "outputs": [
        {
          "output_type": "stream",
          "name": "stdout",
          "text": [
            "[1, 2, 4, 5]\n"
          ]
        }
      ]
    },
    {
      "cell_type": "code",
      "source": [
        "#9.  Write a code to access the second element in the list ['a', 'b', 'c', 'd']\n",
        "my_list = ['a', 'b', 'c', 'd']\n",
        "second_element = my_list[1]\n",
        "print(second_element)"
      ],
      "metadata": {
        "colab": {
          "base_uri": "https://localhost:8080/"
        },
        "id": "VFM2au9wEZ0m",
        "outputId": "f1eda94a-324b-4e1f-ebe4-bc45e4c2adba"
      },
      "execution_count": 13,
      "outputs": [
        {
          "output_type": "stream",
          "name": "stdout",
          "text": [
            "b\n"
          ]
        }
      ]
    },
    {
      "cell_type": "code",
      "source": [
        "#10. Write a code to reverse the list [10, 20, 30, 40, 50].\n",
        "numbers = [10, 20, 30, 40, 50]\n",
        "numbers.reverse()\n",
        "print(numbers)"
      ],
      "metadata": {
        "colab": {
          "base_uri": "https://localhost:8080/"
        },
        "id": "z3CgHTgsEjCg",
        "outputId": "9436cda2-5270-474c-e896-d73a869bb8e9"
      },
      "execution_count": 14,
      "outputs": [
        {
          "output_type": "stream",
          "name": "stdout",
          "text": [
            "[50, 40, 30, 20, 10]\n"
          ]
        }
      ]
    },
    {
      "cell_type": "code",
      "source": [
        "#11. Write a code to create a tuple with the elements 100, 200, 300 and print it.\n",
        "my_tuple = (100, 200, 300)\n",
        "print(my_tuple)"
      ],
      "metadata": {
        "colab": {
          "base_uri": "https://localhost:8080/"
        },
        "id": "hN91p0nqEtc6",
        "outputId": "76ecc3c9-9db2-4ed4-fb25-82219243ca3c"
      },
      "execution_count": 15,
      "outputs": [
        {
          "output_type": "stream",
          "name": "stdout",
          "text": [
            "(100, 200, 300)\n"
          ]
        }
      ]
    },
    {
      "cell_type": "code",
      "source": [
        "#12. Write a code to access the second-to-last element of the tuple ('red', 'green', 'blue', 'yellow')?\n",
        "colors = ('red', 'green', 'blue', 'yellow')\n",
        "second_to_last = colors[-2]\n",
        "print(second_to_last)"
      ],
      "metadata": {
        "colab": {
          "base_uri": "https://localhost:8080/"
        },
        "id": "8lnUWbByE2M7",
        "outputId": "7c1a2229-68fe-4033-e446-9ac56d1c58b8"
      },
      "execution_count": 16,
      "outputs": [
        {
          "output_type": "stream",
          "name": "stdout",
          "text": [
            "blue\n"
          ]
        }
      ]
    },
    {
      "cell_type": "code",
      "source": [
        "#13.  Write a code to find the minimum number in the tuple (10, 20, 5, 15).\n",
        "numbers = (10, 20, 5, 15)\n",
        "min_number = min(numbers)\n",
        "print(min_number)"
      ],
      "metadata": {
        "colab": {
          "base_uri": "https://localhost:8080/"
        },
        "id": "GeZfW9n5E-t1",
        "outputId": "f32ab5fb-4a17-4706-d8fa-993d0b221b57"
      },
      "execution_count": 17,
      "outputs": [
        {
          "output_type": "stream",
          "name": "stdout",
          "text": [
            "5\n"
          ]
        }
      ]
    },
    {
      "cell_type": "code",
      "source": [
        "#14. Write a code to find the index of the element \"cat\" in the tuple ('dog', 'cat', 'rabbit').\n",
        "animals = ('dog', 'cat', 'rabbit')\n",
        "index_cat = animals.index('cat')\n",
        "print(index_cat)"
      ],
      "metadata": {
        "colab": {
          "base_uri": "https://localhost:8080/"
        },
        "id": "RfE9Tq3vFIJz",
        "outputId": "3c263662-c15a-4398-94ef-0ae5c76680f8"
      },
      "execution_count": 18,
      "outputs": [
        {
          "output_type": "stream",
          "name": "stdout",
          "text": [
            "1\n"
          ]
        }
      ]
    },
    {
      "cell_type": "code",
      "source": [
        "#15.Write a code to create a tuple containing three different fruits and check if \"kiwi\" is in it\n",
        "fruits = (\"apple\", \"banana\", \"orange\")\n",
        "if \"kiwi\" in fruits:\n",
        "    print(\"Kiwi is in the tuple.\")\n",
        "else:\n",
        "    print(\"Kiwi is not in the tuple.\")\n"
      ],
      "metadata": {
        "colab": {
          "base_uri": "https://localhost:8080/"
        },
        "id": "GalTbHfnFRH7",
        "outputId": "9405258f-88b6-48d0-965f-3f5e88684aff"
      },
      "execution_count": 19,
      "outputs": [
        {
          "output_type": "stream",
          "name": "stdout",
          "text": [
            "Kiwi is not in the tuple.\n"
          ]
        }
      ]
    },
    {
      "cell_type": "code",
      "source": [
        "#16.  Write a code to create a set with the elements 'a', 'b', 'c' and print it\n",
        "my_set = {'a', 'b', 'c'}\n",
        "print(my_set)"
      ],
      "metadata": {
        "colab": {
          "base_uri": "https://localhost:8080/"
        },
        "id": "WLiOb00cFfnu",
        "outputId": "28f4617c-ba55-4189-ad36-ba9fdddd2ce2"
      },
      "execution_count": 20,
      "outputs": [
        {
          "output_type": "stream",
          "name": "stdout",
          "text": [
            "{'c', 'b', 'a'}\n"
          ]
        }
      ]
    },
    {
      "cell_type": "code",
      "source": [
        "#17.  Write a code to clear all elements from the set {1, 2, 3, 4, 5}.\n",
        "my_set = {1, 2, 3, 4, 5}\n",
        "my_set.clear()\n",
        "print(my_set)"
      ],
      "metadata": {
        "colab": {
          "base_uri": "https://localhost:8080/"
        },
        "id": "y4suE3KRFqOD",
        "outputId": "0a6e7bb2-4cfe-43dd-9249-11c32e7fdf3d"
      },
      "execution_count": 21,
      "outputs": [
        {
          "output_type": "stream",
          "name": "stdout",
          "text": [
            "set()\n"
          ]
        }
      ]
    },
    {
      "cell_type": "code",
      "source": [
        "#18. Write a code to remove the element 4 from the set {1, 2, 3, 4}\n",
        "my_set = {1, 2, 3, 4}\n",
        "my_set.remove(4)\n",
        "print(my_set)"
      ],
      "metadata": {
        "colab": {
          "base_uri": "https://localhost:8080/"
        },
        "id": "wnLkJGRJF6OE",
        "outputId": "93476ee7-0634-44c8-fb4f-7725eb87357b"
      },
      "execution_count": 22,
      "outputs": [
        {
          "output_type": "stream",
          "name": "stdout",
          "text": [
            "{1, 2, 3}\n"
          ]
        }
      ]
    },
    {
      "cell_type": "code",
      "source": [
        "#19. Write a code to find the union of two sets {1, 2, 3} and {3, 4, 5}\n",
        "set1 = {1, 2, 3}\n",
        "set2 = {3, 4, 5}\n",
        "union_set = set1.union(set2)\n",
        "print(union_set)"
      ],
      "metadata": {
        "colab": {
          "base_uri": "https://localhost:8080/"
        },
        "id": "z9TWUQeiGEnJ",
        "outputId": "cf6cc757-9788-4781-cfaa-e415a19a39c3"
      },
      "execution_count": 23,
      "outputs": [
        {
          "output_type": "stream",
          "name": "stdout",
          "text": [
            "{1, 2, 3, 4, 5}\n"
          ]
        }
      ]
    },
    {
      "cell_type": "code",
      "source": [
        "#20. Write a code to find the intersection of two sets {1, 2, 3} and {2, 3, 4}\n",
        "set1 = {1, 2, 3}\n",
        "set2 = {2, 3, 4}\n",
        "intersection_set = set1.intersection(set2)\n",
        "print(intersection_set)"
      ],
      "metadata": {
        "colab": {
          "base_uri": "https://localhost:8080/"
        },
        "id": "ikoXs9XcGOHf",
        "outputId": "c2cc57dd-8402-4913-ba41-1418135f3799"
      },
      "execution_count": 24,
      "outputs": [
        {
          "output_type": "stream",
          "name": "stdout",
          "text": [
            "{2, 3}\n"
          ]
        }
      ]
    },
    {
      "cell_type": "code",
      "source": [
        "#21.  Write a code to create a dictionary with the keys \"name\", \"age\", and \"city\", and print it.\n",
        "person = {\n",
        "    \"name\": \"Alice\",\n",
        "    \"age\": 30,\n",
        "    \"city\": \"New York\"\n",
        "}\n",
        "print(person)\n"
      ],
      "metadata": {
        "colab": {
          "base_uri": "https://localhost:8080/"
        },
        "id": "8tjZRhPIGW-p",
        "outputId": "d478a3c4-7ca6-479c-b7dd-578d4774facb"
      },
      "execution_count": 25,
      "outputs": [
        {
          "output_type": "stream",
          "name": "stdout",
          "text": [
            "{'name': 'Alice', 'age': 30, 'city': 'New York'}\n"
          ]
        }
      ]
    },
    {
      "cell_type": "code",
      "source": [
        "#22. Write a code to add a new key-value pair \"country\": \"USA\" to the dictionary {'name': 'John', 'age': 25}\n",
        "person = {'name': 'John', 'age': 25}\n",
        "person['country'] = 'USA'\n",
        "print(person)"
      ],
      "metadata": {
        "colab": {
          "base_uri": "https://localhost:8080/"
        },
        "id": "g9XYfY_aGgzm",
        "outputId": "399abec0-accc-43f5-e16c-668150fdb6bf"
      },
      "execution_count": 26,
      "outputs": [
        {
          "output_type": "stream",
          "name": "stdout",
          "text": [
            "{'name': 'John', 'age': 25, 'country': 'USA'}\n"
          ]
        }
      ]
    },
    {
      "cell_type": "code",
      "source": [
        "#23. Write a code to access the value associated with the key \"name\" in the dictionary {'name': 'Alice', 'age': 30}\n",
        "person = {'name': 'Alice', 'age': 30}\n",
        "name_value = person['name']\n",
        "print(name_value)"
      ],
      "metadata": {
        "colab": {
          "base_uri": "https://localhost:8080/"
        },
        "id": "B_LrH96gGse_",
        "outputId": "0b342271-5a85-488e-a2e2-a832173e2ee0"
      },
      "execution_count": 27,
      "outputs": [
        {
          "output_type": "stream",
          "name": "stdout",
          "text": [
            "Alice\n"
          ]
        }
      ]
    },
    {
      "cell_type": "code",
      "source": [
        "#24. Write a code to remove the key \"age\" from the dictionary {'name': 'Bob', 'age': 22, 'city': 'New York'}.\n",
        "person = {'name': 'Bob', 'age': 22, 'city': 'New York'}\n",
        "person.pop('age')\n",
        "print(person)"
      ],
      "metadata": {
        "colab": {
          "base_uri": "https://localhost:8080/"
        },
        "id": "NY5iGfuZG2zv",
        "outputId": "55de0154-8e7a-4923-c1a3-7a79c922de13"
      },
      "execution_count": 28,
      "outputs": [
        {
          "output_type": "stream",
          "name": "stdout",
          "text": [
            "{'name': 'Bob', 'city': 'New York'}\n"
          ]
        }
      ]
    },
    {
      "cell_type": "code",
      "source": [
        "#25. Write a code to check if the key \"city\" exists in the dictionary {'name': 'Alice', 'city': 'Paris'}.\n",
        "person = {'name': 'Alice', 'city': 'Paris'}\n",
        "\n",
        "if 'city' in person:\n",
        "    print(\"Key 'city' exists in the dictionary.\")\n",
        "else:\n",
        "    print(\"Key 'city' does not exist in the dictionary.\")"
      ],
      "metadata": {
        "colab": {
          "base_uri": "https://localhost:8080/"
        },
        "id": "CW0jFflfG_BJ",
        "outputId": "4ec96b66-4273-455d-e517-6663d2795604"
      },
      "execution_count": 29,
      "outputs": [
        {
          "output_type": "stream",
          "name": "stdout",
          "text": [
            "Key 'city' exists in the dictionary.\n"
          ]
        }
      ]
    },
    {
      "cell_type": "code",
      "source": [
        "#26. Write a code to create a list, a tuple, and a dictionary, and print them all\n",
        "\n",
        "my_list = [1, 2, 3]\n",
        "my_tuple = ('a', 'b', 'c')\n",
        "my_dict = {'name': 'Alice', 'age': 30}\n",
        "print(\"List:\", my_list)\n",
        "print(\"Tuple:\", my_tuple)\n",
        "print(\"Dictionary:\", my_dict)\n"
      ],
      "metadata": {
        "colab": {
          "base_uri": "https://localhost:8080/"
        },
        "id": "am5F37MjHJGP",
        "outputId": "73f44366-4026-46d8-c838-307d29e91a31"
      },
      "execution_count": 30,
      "outputs": [
        {
          "output_type": "stream",
          "name": "stdout",
          "text": [
            "List: [1, 2, 3]\n",
            "Tuple: ('a', 'b', 'c')\n",
            "Dictionary: {'name': 'Alice', 'age': 30}\n"
          ]
        }
      ]
    },
    {
      "cell_type": "code",
      "source": [
        "#27. Write a code to create a list of 5 random numbers between 1 and 100, sort it in ascending order, and print the result.(replaced)\n",
        "import random\n",
        "random_numbers = [random.randint(1, 100) for _ in range(5)]\n",
        "random_numbers.sort()\n",
        "print(random_numbers)\n"
      ],
      "metadata": {
        "colab": {
          "base_uri": "https://localhost:8080/"
        },
        "id": "V1TyPfYpHf-4",
        "outputId": "57b8649f-e16c-40fa-8dff-5cac0aab2d2f"
      },
      "execution_count": 33,
      "outputs": [
        {
          "output_type": "stream",
          "name": "stdout",
          "text": [
            "[31, 45, 46, 52, 89]\n"
          ]
        }
      ]
    },
    {
      "cell_type": "code",
      "source": [
        "#28. Write a code to create a list with strings and print the element at the third index\n",
        "my_list = [\"apple\", \"banana\", \"cherry\", \"date\", \"elderberry\"]\n",
        "print(my_list[3])"
      ],
      "metadata": {
        "colab": {
          "base_uri": "https://localhost:8080/"
        },
        "id": "SsF1HEZdH8lz",
        "outputId": "8e02e30c-9aa0-49f9-be65-b24a411307cf"
      },
      "execution_count": 34,
      "outputs": [
        {
          "output_type": "stream",
          "name": "stdout",
          "text": [
            "date\n"
          ]
        }
      ]
    },
    {
      "cell_type": "code",
      "source": [
        "#29. Write a code to combine two dictionaries into one and print the result.\n",
        "dict1 = {'a': 1, 'b': 2}\n",
        "dict2 = {'c': 3, 'd': 4}\n",
        "combined_dict = dict1 | dict2\n",
        "print(combined_dict)\n"
      ],
      "metadata": {
        "colab": {
          "base_uri": "https://localhost:8080/"
        },
        "id": "7mJbLgmgIRcu",
        "outputId": "9c77a75d-3ec4-4fc9-ff22-e35e15edb7ac"
      },
      "execution_count": 35,
      "outputs": [
        {
          "output_type": "stream",
          "name": "stdout",
          "text": [
            "{'a': 1, 'b': 2, 'c': 3, 'd': 4}\n"
          ]
        }
      ]
    },
    {
      "cell_type": "code",
      "source": [
        "# 30. Write a code to convert a list of strings into a set\n",
        "string_list = [\"apple\", \"banana\", \"apple\", \"orange\"]\n",
        "string_set = set(string_list)\n",
        "print(string_set)"
      ],
      "metadata": {
        "colab": {
          "base_uri": "https://localhost:8080/"
        },
        "id": "g4j7NzaeIe31",
        "outputId": "e68f9061-57b8-4d17-baca-7812710d00d3"
      },
      "execution_count": 36,
      "outputs": [
        {
          "output_type": "stream",
          "name": "stdout",
          "text": [
            "{'banana', 'apple', 'orange'}\n"
          ]
        }
      ]
    }
  ]
}